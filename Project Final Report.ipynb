{
 "cells": [
  {
   "cell_type": "markdown",
   "id": "9b7a0802-e6c2-4b14-b71f-78f50fc76a72",
   "metadata": {},
   "source": [
    "# DSCI100 Project Final Report\n",
    "### Players Subscription Predictive Data Analysis"
   ]
  },
  {
   "cell_type": "markdown",
   "id": "9ddc5b77-b9ec-4746-b3f7-a48b2f0e9351",
   "metadata": {},
   "source": [
    "### Group 29:\n",
    "- Ysabel Maria\n",
    "- Sanjana Gopee - 59940676\n",
    "- Simar Pandher\n",
    "- Olivia Kong"
   ]
  },
  {
   "cell_type": "markdown",
   "id": "ba719b08-9d12-4a03-982a-d3e2ab917813",
   "metadata": {},
   "source": [
    "## Instructions for Final Report\n",
    "- Title **(Done)**\n",
    "\n",
    "- Introduction: Provide some relevant background information on the topic so that someone unfamiliar with it will be prepared to understand the rest of your report\n",
    "clearly state the question you tried to answer with your project identify and fully describe the dataset that was used to answer the question **(Done)**\n",
    "\n",
    "- Methods & Results: Describe the methods you used to perform your analysis from beginning to end that narrates the analysis code. **(In-progress)**\n",
    "\n",
    "Your report should include code which:\n",
    "\n",
    "1. loads data \n",
    "2. wrangles and cleans the data to the format necessary for the planned analysis\n",
    "3. performs a summary of the data set that is relevant for exploratory data analysis related to the planned analysis \n",
    "4. creates a visualization of the dataset that is relevant for exploratory data analysis related to the planned analysis\n",
    "5. performs the data analysis\n",
    "6. creates a visualization of the analysis \n",
    "\n",
    "note: all figures should have a figure number and a legend\n",
    "\n",
    "- Discussion:\n",
    "1. summarize what you found\n",
    "2. discuss whether this is what you expected to find?\n",
    "3. discuss what impact could such findings have?\n",
    "4. discuss what future questions could this lead to?\n",
    "\n",
    "- References\n",
    "You may include references if necessary, as long as they all have a consistent citation style."
   ]
  },
  {
   "cell_type": "code",
   "execution_count": 1,
   "id": "7ccf3feb-6927-4f3f-83da-0e2c5ebc6f9e",
   "metadata": {},
   "outputs": [],
   "source": [
    "import altair as alt\n",
    "import numpy as np\n",
    "import pandas as pd\n",
    "from sklearn import set_config\n",
    "from sklearn.compose import make_column_transformer\n",
    "from sklearn.metrics.pairwise import euclidean_distances\n",
    "from sklearn.model_selection import (\n",
    "    GridSearchCV,\n",
    "    RandomizedSearchCV,\n",
    "    cross_validate,\n",
    "    train_test_split,\n",
    ")\n",
    "from sklearn.neighbors import KNeighborsClassifier\n",
    "from sklearn.pipeline import make_pipeline\n",
    "from sklearn.preprocessing import StandardScaler\n",
    "import matplotlib.pyplot as plt\n",
    "from sklearn.metrics import confusion_matrix\n",
    "from sklearn.model_selection import GridSearchCV, cross_validate\n",
    "\n",
    "\n",
    "\n",
    "alt.data_transformers.enable('vegafusion')\n",
    "\n",
    "set_config(transform_output=\"pandas\")"
   ]
  },
  {
   "cell_type": "markdown",
   "id": "13d466db-4d1e-432f-a3cc-7fe13ee370fe",
   "metadata": {},
   "source": [
    "### Introduction\n",
    "This project is based on **Players** and **Sessions** data available for the Plaicraft game. The question our group has chosen to answer is Question 3.\n",
    "\n",
    "**Question 3**: We would like to know something about our populations of users, in particular, we would like to have a good model of whether or not a player will continue contributing given past participation. \n",
    "\n",
    "## Data Description\n",
    "\n",
    "## Players Data\n",
    "  The players.csv filed is a data set containing information about the players in the game. There are 196 observations with data about the players such as their experience, whether they subscribe, their email, the number of hours played, their names, gender and age.\n",
    "\n",
    "  \n",
    "\n",
    "\n",
    "**Players.csv:**\n",
    "1. Experience: The level of expertise that the player has in the game. The data type of this column variable is string. Possible values are \"Amateur\", \"Beginner\", \"Regular\", \"Pro\", \"Veteran\". This is a categorical variable.\n",
    "2. Subscribe: Whether or not the player has subscribed to the game. The variable is a boolean value and can only take the value \"TRUE\" or \"FALSE\", indicating \"yes\"  or \"no\" to whether they are subscribed.\n",
    "3. Hashed Email: This is a string of letters and numbers to encrypt the email of the user. This is a unique identifier for each player. It is in string form.\n",
    "4. Played Hours: The played hours indicates the number of hours spent playing the game approximated to one decimal place. The data type of this variable is float.\n",
    "5. Name: This is the name (first name) of the player. This is probably not a unique identifier since two people could coincidentally have the same name. The data type is string.\n",
    "6. Gender: Gender is a categorical variable which has the following possible values: \"Male\", \"Female\", \"Non-binary\", \"Prefer not to say\", \"Agender\", \"Two-spirited\", \"Other\".\n",
    "\n",
    "## Sessions Data\n",
    "The sessions.csv data set contains specific data about the playing sessions of the players in the game. There are 1535 observations in the sessions data set. It has variables like the players' email, start time, end time, original start time and original end time.\n",
    "\n",
    "**Sessions.csv:**\n",
    "1. Hashed Email: This is a string of letters and numbers to encrypt the email of the user. This is a unique identifier for each player. It is in string form.\n",
    "2. Start Time: This includes the date - in format DD/MM/YY - and the time the player started playing the game. The time is in 24-hour format. The value is probably a string as it combines both the date and time.\n",
    "3. End Time: This includes the date - in format DD/MM/YY - and the time the player stopped playing the game. The time is in 24-hour format. The value is probably a string as it combines both the date and time.\n",
    "4. Original Start Time: This variable is a 14-digit integer indicating the start time.\n",
    "5. Original End Time: This variable is a 14-digit integer indicating the end time.\n"
   ]
  },
  {
   "cell_type": "markdown",
   "id": "90b4e3c1-f9c3-47b7-8b08-0f40fd844a39",
   "metadata": {},
   "source": [
    "## Method\n",
    "\n",
    "### Summary\n",
    "Using data available about **Players** and **Sessions of Players**, the goal of this project is to predict player retention, whether a player will continue playing the game based on the data from the two given dataframes. The column \"subscribe\" is the categorical variable we are trying to predict, and this is based on our assumption that a players subscribing to the game will continue to play it. The two varaibles chosen to predict this are:\n",
    "\n",
    "1. Total number of hours played\n",
    "2. Average session time per player\n",
    "\n",
    "This will require a KNN classification model with the most optimal K value, and the two above quantitative predictor variables. The data will also be split into training and test sets to evaluate the classifer model's performance using accuracy, recall and precision. Through cross validation, an optimal k-value will be chosen. \n",
    "\n",
    "### Detailed Steps [INCOMPLETE - Still need to write more]\n",
    "- **Data Wrangling**:\n",
    "\n",
    "1. Converting dtype object to numeric\n",
    "2. Groupby() and mean\n",
    "3. Merging the two data sets based on hashedemail\n",
    "\n",
    "- **Exploratory Analysis**: explain\n",
    "- **Data Analysis**: explain\n",
    "- **Visualization of Analysis**: explain"
   ]
  },
  {
   "cell_type": "code",
   "execution_count": null,
   "id": "76ed7441-cbd9-47cd-b964-2ca1cb15ec3d",
   "metadata": {},
   "outputs": [],
   "source": []
  }
 ],
 "metadata": {
  "kernelspec": {
   "display_name": "Python 3 (ipykernel)",
   "language": "python",
   "name": "python3"
  },
  "language_info": {
   "codemirror_mode": {
    "name": "ipython",
    "version": 3
   },
   "file_extension": ".py",
   "mimetype": "text/x-python",
   "name": "python",
   "nbconvert_exporter": "python",
   "pygments_lexer": "ipython3",
   "version": "3.11.9"
  }
 },
 "nbformat": 4,
 "nbformat_minor": 5
}
