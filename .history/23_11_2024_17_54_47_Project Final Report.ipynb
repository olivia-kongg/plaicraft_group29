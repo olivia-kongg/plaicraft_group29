{
 "cells": [
  {
   "cell_type": "markdown",
   "id": "9b7a0802-e6c2-4b14-b71f-78f50fc76a72",
   "metadata": {},
   "source": [
    "# DSCI100 Project Final Report\n",
    "### Players Subscription Predictive Data Analysis"
   ]
  },
  {
   "cell_type": "markdown",
   "id": "9ddc5b77-b9ec-4746-b3f7-a48b2f0e9351",
   "metadata": {},
   "source": [
    "### Group 29:\n",
    "- Ysabel Maria\n",
    "- Sanjana Gopee - 59940676\n",
    "- Simar Pandher\n",
    "- Olivia Kong"
   ]
  },
  {
   "cell_type": "markdown",
   "id": "ba719b08-9d12-4a03-982a-d3e2ab917813",
   "metadata": {},
   "source": [
    "## Instructions for Final Report\n",
    "- Title\n",
    "\n",
    "- Introduction: Provide some relevant background information on the topic so that someone unfamiliar with it will be prepared to understand the rest of your report\n",
    "clearly state the question you tried to answer with your project identify and fully describe the dataset that was used to answer the question\n",
    "\n",
    "- Methods & Results: Describe the methods you used to perform your analysis from beginning to end that narrates the analysis code.\n",
    "your report should include code which:\n",
    "\n",
    "1. loads data \n",
    "2. wrangles and cleans the data to the format necessary for the planned analysis\n",
    "3. performs a summary of the data set that is relevant for exploratory data analysis related to the planned analysis \n",
    "4. creates a visualization of the dataset that is relevant for exploratory data analysis related to the planned analysis\n",
    "5. performs the data analysis\n",
    "6. creates a visualization of the analysis \n",
    "\n",
    "note: all figures should have a figure number and a legend\n",
    "\n",
    "- Discussion:\n",
    "1. summarize what you found\n",
    "2. discuss whether this is what you expected to find?\n",
    "3. discuss what impact could such findings have?\n",
    "4. discuss what future questions could this lead to?\n",
    "\n",
    "- References\n",
    "You may include references if necessary, as long as they all have a consistent citation style."
   ]
  },
  {
   "cell_type": "code",
   "execution_count": 1,
   "id": "7ccf3feb-6927-4f3f-83da-0e2c5ebc6f9e",
   "metadata": {},
   "outputs": [],
   "source": [
    "import altair as alt\n",
    "import numpy as np\n",
    "import pandas as pd\n",
    "from sklearn import set_config\n",
    "from sklearn.compose import make_column_transformer\n",
    "from sklearn.metrics.pairwise import euclidean_distances\n",
    "from sklearn.model_selection import (\n",
    "    GridSearchCV,\n",
    "    RandomizedSearchCV,\n",
    "    cross_validate,\n",
    "    train_test_split,\n",
    ")\n",
    "from sklearn.neighbors import KNeighborsClassifier\n",
    "from sklearn.pipeline import make_pipeline\n",
    "from sklearn.preprocessing import StandardScaler\n",
    "import matplotlib.pyplot as plt\n",
    "from sklearn.metrics import confusion_matrix\n",
    "from sklearn.model_selection import GridSearchCV, cross_validate\n",
    "\n",
    "\n",
    "\n",
    "alt.data_transformers.enable('vegafusion')\n",
    "\n",
    "set_config(transform_output=\"pandas\")"
   ]
  },
  {
   "cell_type": "markdown",
   "id": "a1ed7f76-0fe6-4f3b-a6ae-7e557235108e",
   "metadata": {},
   "source": [
    "### Introduction"
   ]
  },
  {
   "cell_type": "code",
   "execution_count": null,
   "id": "9f11ee25-21fc-4d4c-b5ec-05ef14006c4c",
   "metadata": {},
   "outputs": [],
   "source": []
  }
 ],
 "metadata": {
  "kernelspec": {
   "display_name": "Python 3 (ipykernel)",
   "language": "python",
   "name": "python3"
  },
  "language_info": {
   "codemirror_mode": {
    "name": "ipython",
    "version": 3
   },
   "file_extension": ".py",
   "mimetype": "text/x-python",
   "name": "python",
   "nbconvert_exporter": "python",
   "pygments_lexer": "ipython3",
   "version": "3.11.9"
  }
 },
 "nbformat": 4,
 "nbformat_minor": 5
}
